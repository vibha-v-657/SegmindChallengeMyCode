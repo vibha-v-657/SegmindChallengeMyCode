{
  "nbformat": 4,
  "nbformat_minor": 0,
  "metadata": {
    "colab": {
      "name": "perfectsales.ipynb",
      "provenance": [],
      "collapsed_sections": [],
      "mount_file_id": "1HPgl3ktNP8S9cKAtTK8pk9ipicXuKZSy",
      "authorship_tag": "ABX9TyOBglB1e+WNuCiFBQ2wUOTO",
      "include_colab_link": true
    },
    "kernelspec": {
      "name": "python3",
      "display_name": "Python 3"
    },
    "language_info": {
      "name": "python"
    }
  },
  "cells": [
    {
      "cell_type": "markdown",
      "metadata": {
        "id": "view-in-github",
        "colab_type": "text"
      },
      "source": [
        "<a href=\"https://colab.research.google.com/github/vibha-v-657/SegmindChallengeMyCode/blob/main/perfectsales.ipynb\" target=\"_parent\"><img src=\"https://colab.research.google.com/assets/colab-badge.svg\" alt=\"Open In Colab\"/></a>"
      ]
    },
    {
      "cell_type": "code",
      "metadata": {
        "colab": {
          "base_uri": "https://localhost:8080/",
          "height": 678
        },
        "id": "W6Axk_RMhriS",
        "outputId": "3fa0b223-6c39-4e6b-de53-1cbcef78532c"
      },
      "source": [
        "!pip install h2o\n",
        "import h2o\n",
        "from h2o.automl import H2OAutoML\n",
        "h2o.init(\n",
        "    nthreads=2,     # number of threads when launching a new H2O server\n",
        "    max_mem_size=12  # in gigabytes\n",
        "\n",
        ")\n"
      ],
      "execution_count": null,
      "outputs": [
        {
          "output_type": "stream",
          "text": [
            "Requirement already satisfied: h2o in /usr/local/lib/python3.7/dist-packages (3.32.1.1)\n",
            "Requirement already satisfied: future in /usr/local/lib/python3.7/dist-packages (from h2o) (0.16.0)\n",
            "Requirement already satisfied: tabulate in /usr/local/lib/python3.7/dist-packages (from h2o) (0.8.9)\n",
            "Requirement already satisfied: colorama>=0.3.8 in /usr/local/lib/python3.7/dist-packages (from h2o) (0.4.4)\n",
            "Requirement already satisfied: requests in /usr/local/lib/python3.7/dist-packages (from h2o) (2.23.0)\n",
            "Requirement already satisfied: idna<3,>=2.5 in /usr/local/lib/python3.7/dist-packages (from requests->h2o) (2.10)\n",
            "Requirement already satisfied: urllib3!=1.25.0,!=1.25.1,<1.26,>=1.21.1 in /usr/local/lib/python3.7/dist-packages (from requests->h2o) (1.24.3)\n",
            "Requirement already satisfied: chardet<4,>=3.0.2 in /usr/local/lib/python3.7/dist-packages (from requests->h2o) (3.0.4)\n",
            "Requirement already satisfied: certifi>=2017.4.17 in /usr/local/lib/python3.7/dist-packages (from requests->h2o) (2020.12.5)\n",
            "Checking whether there is an H2O instance running at http://localhost:54321 ..... not found.\n",
            "Attempting to start a local H2O server...\n",
            "  Java Version: openjdk version \"11.0.10\" 2021-01-19; OpenJDK Runtime Environment (build 11.0.10+9-Ubuntu-0ubuntu1.18.04); OpenJDK 64-Bit Server VM (build 11.0.10+9-Ubuntu-0ubuntu1.18.04, mixed mode, sharing)\n",
            "  Starting server from /usr/local/lib/python3.7/dist-packages/h2o/backend/bin/h2o.jar\n",
            "  Ice root: /tmp/tmpspt0woso\n",
            "  JVM stdout: /tmp/tmpspt0woso/h2o_unknownUser_started_from_python.out\n",
            "  JVM stderr: /tmp/tmpspt0woso/h2o_unknownUser_started_from_python.err\n",
            "  Server is running at http://127.0.0.1:54321\n",
            "Connecting to H2O server at http://127.0.0.1:54321 ... successful.\n"
          ],
          "name": "stdout"
        },
        {
          "output_type": "display_data",
          "data": {
            "text/html": [
              "<div style=\"overflow:auto\"><table style=\"width:50%\"><tr><td>H2O_cluster_uptime:</td>\n",
              "<td>04 secs</td></tr>\n",
              "<tr><td>H2O_cluster_timezone:</td>\n",
              "<td>Etc/UTC</td></tr>\n",
              "<tr><td>H2O_data_parsing_timezone:</td>\n",
              "<td>UTC</td></tr>\n",
              "<tr><td>H2O_cluster_version:</td>\n",
              "<td>3.32.1.1</td></tr>\n",
              "<tr><td>H2O_cluster_version_age:</td>\n",
              "<td>1 month and 1 day </td></tr>\n",
              "<tr><td>H2O_cluster_name:</td>\n",
              "<td>H2O_from_python_unknownUser_xg76d6</td></tr>\n",
              "<tr><td>H2O_cluster_total_nodes:</td>\n",
              "<td>1</td></tr>\n",
              "<tr><td>H2O_cluster_free_memory:</td>\n",
              "<td>12 Gb</td></tr>\n",
              "<tr><td>H2O_cluster_total_cores:</td>\n",
              "<td>2</td></tr>\n",
              "<tr><td>H2O_cluster_allowed_cores:</td>\n",
              "<td>2</td></tr>\n",
              "<tr><td>H2O_cluster_status:</td>\n",
              "<td>accepting new members, healthy</td></tr>\n",
              "<tr><td>H2O_connection_url:</td>\n",
              "<td>http://127.0.0.1:54321</td></tr>\n",
              "<tr><td>H2O_connection_proxy:</td>\n",
              "<td>{\"http\": null, \"https\": null}</td></tr>\n",
              "<tr><td>H2O_internal_security:</td>\n",
              "<td>False</td></tr>\n",
              "<tr><td>H2O_API_Extensions:</td>\n",
              "<td>Amazon S3, XGBoost, Algos, AutoML, Core V3, TargetEncoder, Core V4</td></tr>\n",
              "<tr><td>Python_version:</td>\n",
              "<td>3.7.10 final</td></tr></table></div>"
            ],
            "text/plain": [
              "--------------------------  ------------------------------------------------------------------\n",
              "H2O_cluster_uptime:         04 secs\n",
              "H2O_cluster_timezone:       Etc/UTC\n",
              "H2O_data_parsing_timezone:  UTC\n",
              "H2O_cluster_version:        3.32.1.1\n",
              "H2O_cluster_version_age:    1 month and 1 day\n",
              "H2O_cluster_name:           H2O_from_python_unknownUser_xg76d6\n",
              "H2O_cluster_total_nodes:    1\n",
              "H2O_cluster_free_memory:    12 Gb\n",
              "H2O_cluster_total_cores:    2\n",
              "H2O_cluster_allowed_cores:  2\n",
              "H2O_cluster_status:         accepting new members, healthy\n",
              "H2O_connection_url:         http://127.0.0.1:54321\n",
              "H2O_connection_proxy:       {\"http\": null, \"https\": null}\n",
              "H2O_internal_security:      False\n",
              "H2O_API_Extensions:         Amazon S3, XGBoost, Algos, AutoML, Core V3, TargetEncoder, Core V4\n",
              "Python_version:             3.7.10 final\n",
              "--------------------------  ------------------------------------------------------------------"
            ]
          },
          "metadata": {
            "tags": []
          }
        }
      ]
    },
    {
      "cell_type": "code",
      "metadata": {
        "colab": {
          "base_uri": "https://localhost:8080/"
        },
        "id": "Qco5KJKMg4-W",
        "outputId": "85de993f-870d-434e-be89-3b785c0387c0"
      },
      "source": [
        "!unzip \"/content/segmind_grand_ai_challenge_2021-dataset.zip\""
      ],
      "execution_count": null,
      "outputs": [
        {
          "output_type": "stream",
          "text": [
            "Archive:  /content/segmind_grand_ai_challenge_2021-dataset.zip\n",
            "replace dataset/sample_submission.csv? [y]es, [n]o, [A]ll, [N]one, [r]ename: A\n",
            "  inflating: dataset/sample_submission.csv  \n",
            "  inflating: dataset/TEST.csv        \n",
            "  inflating: dataset/TRAIN.csv       \n",
            "  inflating: dataset/store.csv       \n"
          ],
          "name": "stdout"
        }
      ]
    },
    {
      "cell_type": "code",
      "metadata": {
        "id": "MUi6NINihvAw",
        "colab": {
          "base_uri": "https://localhost:8080/"
        },
        "outputId": "c1980ac7-ec62-4fd6-f449-b263b1231d71"
      },
      "source": [
        "import pandas as pd\n",
        "test_data = pd.read_csv('/content/dataset/TEST.csv')\n",
        "train_data = pd.read_csv('/content/dataset/TRAIN.csv')\n"
      ],
      "execution_count": null,
      "outputs": [
        {
          "output_type": "stream",
          "text": [
            "/usr/local/lib/python3.7/dist-packages/IPython/core/interactiveshell.py:2718: DtypeWarning: Columns (7) have mixed types.Specify dtype option on import or set low_memory=False.\n",
            "  interactivity=interactivity, compiler=compiler, result=result)\n"
          ],
          "name": "stderr"
        }
      ]
    },
    {
      "cell_type": "code",
      "metadata": {
        "id": "Mk_p1gxmjeOv"
      },
      "source": [
        "store=pd.read_csv(\"/content/dataset/store.csv\")"
      ],
      "execution_count": null,
      "outputs": []
    },
    {
      "cell_type": "code",
      "metadata": {
        "colab": {
          "base_uri": "https://localhost:8080/"
        },
        "id": "KkMNCpnZNo48",
        "outputId": "7a880322-c1ab-4c94-be56-b0c6c01c0e0b"
      },
      "source": [
        "holidays1=train_data['StateHoliday']\n",
        "holidays2=test_data['StateHoliday']\n",
        "\n",
        "train_data['StateHoliday_a']=(holidays1=='a')*1.0\n",
        "train_data['StateHoliday_b']=(holidays1=='b')*1.0\n",
        "train_data['StateHoliday_c']=(holidays1=='c')*1.0\n",
        "\n",
        "test_data['StateHoliday_a']=(holidays2=='a')*1.0\n",
        "test_data['StateHoliday_b']=(holidays2=='b')*1.0\n",
        "test_data['StateHoliday_c']=(holidays2=='c')*1.0\n",
        "# Splitting the values based on Date\n",
        "s=pd.to_datetime(train_data['Date'],format='%Y-%m-%d')\n",
        "\n",
        "train_data['year']=s.dt.year\n",
        "train_data['month']=s.dt.month\n",
        "train_data['day']=s.dt.day\n",
        "\n",
        "train_data.pop('Date')\n",
        "\n",
        "train_data.pop('Customers')\n",
        "\n",
        "s=pd.to_datetime(test_data['Date'],format='%Y-%m-%d')\n",
        "\n",
        "test_data['year']=s.dt.year\n",
        "test_data['month']=s.dt.month\n",
        "test_data['day']=s.dt.day\n",
        "\n",
        "test_data.pop('Date')\n"
      ],
      "execution_count": null,
      "outputs": [
        {
          "output_type": "execute_result",
          "data": {
            "text/plain": [
              "0         2013-04-01\n",
              "1         2013-03-16\n",
              "2         2013-08-01\n",
              "3         2013-05-23\n",
              "4         2013-08-06\n",
              "             ...    \n",
              "305158    2013-05-28\n",
              "305159    2013-03-02\n",
              "305160    2013-09-16\n",
              "305161    2013-06-22\n",
              "305162    2013-09-07\n",
              "Name: Date, Length: 305163, dtype: object"
            ]
          },
          "metadata": {
            "tags": []
          },
          "execution_count": 4
        }
      ]
    },
    {
      "cell_type": "code",
      "metadata": {
        "id": "v8DaHS5nh9Eo"
      },
      "source": [
        "#train_features.drop(['Date'],axis=1,inplace=True)\n",
        "#test_features.drop(['Date'],axis=1,inplace=True)\n",
        "\n",
        "train = pd.merge(train_data,store,on=\"Store\")\n",
        "test = pd.merge(test_data,store,on=\"Store\")"
      ],
      "execution_count": null,
      "outputs": []
    },
    {
      "cell_type": "code",
      "metadata": {
        "id": "EClApohwjb8G",
        "colab": {
          "base_uri": "https://localhost:8080/"
        },
        "outputId": "e35829de-8c24-4e91-8053-58721929e3d6"
      },
      "source": [
        "train = h2o.H2OFrame(train)\n",
        "test = h2o.H2OFrame(test)"
      ],
      "execution_count": null,
      "outputs": [
        {
          "output_type": "stream",
          "text": [
            "Parse progress: |█████████████████████████████████████████████████████████| 100%\n",
            "Parse progress: |█████████████████████████████████████████████████████████| 100%\n"
          ],
          "name": "stdout"
        }
      ]
    },
    {
      "cell_type": "code",
      "metadata": {
        "colab": {
          "base_uri": "https://localhost:8080/"
        },
        "id": "dL87zsukjran",
        "outputId": "bba06160-5ddb-4d70-faa5-661dd4414238"
      },
      "source": [
        "x = train.columns[:]\n",
        "y = \"Sales\"\n",
        "x.remove(y)\n",
        "aml = H2OAutoML(max_models=1, seed=3)\n",
        "aml.train(x=x, y=y, training_frame=train)\n",
        "lb = aml.leaderboard\n",
        "lb.head(rows=lb.nrows)"
      ],
      "execution_count": null,
      "outputs": [
        {
          "output_type": "stream",
          "text": [
            "AutoML progress: |██"
          ],
          "name": "stdout"
        }
      ]
    },
    {
      "cell_type": "code",
      "metadata": {
        "id": "XD4LTrjIj6C5"
      },
      "source": [
        "perf = aml.predict(test)\n"
      ],
      "execution_count": null,
      "outputs": []
    },
    {
      "cell_type": "code",
      "metadata": {
        "id": "StSbKI5Rj-DM"
      },
      "source": [
        "df= test.cbind(perf)\n"
      ],
      "execution_count": null,
      "outputs": []
    },
    {
      "cell_type": "code",
      "metadata": {
        "id": "X16lWwx5kA9Z"
      },
      "source": [
        "res = df[:, [\"predict\"]]\n"
      ],
      "execution_count": null,
      "outputs": []
    },
    {
      "cell_type": "code",
      "metadata": {
        "id": "6bLjJOqJkDh9"
      },
      "source": [
        "res.rename(columns={'predict':'Sales'})"
      ],
      "execution_count": null,
      "outputs": []
    },
    {
      "cell_type": "code",
      "metadata": {
        "id": "px6aTYng7-4C"
      },
      "source": [
        "l=[]\n",
        "for i in range(len(test)):\n",
        "  l.append(i)"
      ],
      "execution_count": null,
      "outputs": []
    },
    {
      "cell_type": "code",
      "metadata": {
        "id": "K6LJ5PyEkGHJ"
      },
      "source": [
        "h2o.export_file(res, path = \"/content/output.csv\", force = True)"
      ],
      "execution_count": null,
      "outputs": []
    },
    {
      "cell_type": "code",
      "metadata": {
        "id": "ch4Gh2WNkJIM"
      },
      "source": [
        "op=pd.read_csv(\"/content/output.csv\")"
      ],
      "execution_count": null,
      "outputs": []
    },
    {
      "cell_type": "code",
      "metadata": {
        "id": "92PjbGbspKhY"
      },
      "source": [
        "op.insert(0,\"Index\",l)"
      ],
      "execution_count": null,
      "outputs": []
    },
    {
      "cell_type": "code",
      "metadata": {
        "id": "PMh2iY-ltNzA"
      },
      "source": [
        ""
      ],
      "execution_count": null,
      "outputs": []
    },
    {
      "cell_type": "code",
      "metadata": {
        "id": "2cbWz4HIuCXU"
      },
      "source": [
        "op.to_csv('/content/output.csv',index=False)"
      ],
      "execution_count": null,
      "outputs": []
    },
    {
      "cell_type": "code",
      "metadata": {
        "id": "7Ajt5j0xkiRb"
      },
      "source": [
        ""
      ],
      "execution_count": null,
      "outputs": []
    }
  ]
}